{
 "cells": [
  {
   "cell_type": "code",
   "execution_count": 1,
   "id": "6c880136-7bc5-4614-af2d-e212ebcbaf95",
   "metadata": {},
   "outputs": [
    {
     "name": "stdout",
     "output_type": "stream",
     "text": [
      "🚀 URUCHAMIANIE PORÓWNANIA LOOKML (STYL v2.6.0)\n",
      "\n",
      "========================================================================================================================\n",
      "PODSUMOWANIE ZMIAN W PLIKACH LOOKML\n",
      "========================================================================================================================\n",
      "Plik                      | Element              | Rodzaj          | Zmiana       | Atrybut         | Stara wartość             | Nowa wartość             \n",
      "------------------------------------------------------------------------------------------------------------------------------------------------------\n",
      "view1.view.lkml           | business_date        | rodzaj          | ZMIENIONE    | typ             | dimension_group           | dimension                \n",
      "view1.view.lkml           | name                 | dimension       | ZMIENIONE    | label           | Name                      | Customer Name            \n",
      "view1.view.lkml           | name                 | dimension       | ZMIENIONE    | drill_fields    | [BRAK]                    | id                       \n",
      "view1.view.lkml           | name                 | dimension       | ZMIENIONE    | fields          | [BRAK]                    | id                       \n",
      "view1.view.lkml           | new_dimension        | dimension       | USUNIĘTE     | cały element    | istniał                   | -                        \n",
      "view2.view.lkml           | category             | dimension       | ZMIENIONE    | label           | Category                  | Product Category         \n",
      "view2.view.lkml           | total_value          | measure         | ZMIENIONE    | label           | [BRAK]                    | Total Transaction Value  \n",
      "view2.view.lkml           | total_value          | measure         | ZMIENIONE    | sql             | \"${TABLE}.value * 2\"      | \"${TABLE}.value\"         \n",
      "view2.view.lkml           | value                | dimension       | ZMIENIONE    | label           | Value                     | Transaction Value        \n",
      "view3.view.lkml           | category             | dimension       | DODANE       | cały element    | -                         | istnieje                 \n",
      "view3.view.lkml           | my_drill             | drill           | ZMIENIONE    | label           | Drill into Details        | Drill into More Details  \n",
      "view3.view.lkml           | my_set               | set             | ZMIENIONE    | fields          | id, name                  | id, name, category       \n",
      "Wygenerowano raport HTML: lookml_comparison_table_report.html\n"
     ]
    }
   ],
   "source": [
    "from lookml_comparison import run_complete_comparison\n",
    "from pathlib import Path\n",
    "\n",
    "# Definicja ścieżek do folderów\n",
    "current_dir = Path.cwd()\n",
    "folder_old = current_dir / \"folder_old\"\n",
    "folder_new = current_dir / \"folder_new\"\n",
    "\n",
    "# Uruchomienie porównania z raportem w konsoli\n",
    "run_complete_comparison(folder_old, folder_new, html_table=True)\n"
   ]
  },
  {
   "cell_type": "code",
   "execution_count": 2,
   "id": "7be55ec2-0485-400d-8dfb-730215fc5189",
   "metadata": {},
   "outputs": [
    {
     "name": "stdout",
     "output_type": "stream",
     "text": [
      "Wyświetlanie raportu z: /Users/mrgvp/Documents/projects/python/lookml_diff_checker/lookml_comparison_table_report.html\n"
     ]
    },
    {
     "data": {
      "text/html": [
       "\n",
       "    <!DOCTYPE html><html><head><title>LookML Comparison Table Report</title><style>body{font-family:Arial,sans-serif;margin:20px}table{width:100%;border-collapse:collapse;margin-bottom:20px;table-layout:fixed}th,td{border:1px solid #ddd;padding:8px;text-align:left;vertical-align:top;word-wrap:break-word}th{background-color:#f2f2f2}.long-text{white-space:nowrap;overflow:hidden;text-overflow:ellipsis;max-width:200px}.long-text:hover{overflow:visible;white-space:normal;height:auto;position:absolute;background-color:#fff;border:1px solid #ccc;z-index:1;box-shadow:2px 2px 5px rgba(0,0,0,.2);max-width:500px}ul{list-style-type:none;padding:0}li{margin-bottom:5px}</style></head><body>\n",
       "    <h1>LookML Comparison Table Report</h1><h2>Summary of Changes</h2><table><thead><tr><th>Plik</th><th>Element</th><th>Rodzaj</th><th>Zmiana</th><th>Atrybut</th><th>Stara wartość</th><th>Nowa wartość</th></tr></thead><tbody><tr><td class=\"long-text\" title=\"view1.view.lkml\">view1.view.lkml</td> <td class=\"long-text\" title=\"business_date\">business_date</td> <td class=\"long-text\" title=\"rodzaj\">rodzaj</td> <td class=\"long-text\" title=\"ZMIENIONE\">ZMIENIONE</td> <td class=\"long-text\" title=\"typ\">typ</td> <td class=\"long-text\" title=\"dimension_group\">dimension_group</td> <td class=\"long-text\" title=\"dimension\">dimension</td></tr><tr><td class=\"long-text\" title=\"view1.view.lkml\">view1.view.lkml</td> <td class=\"long-text\" title=\"name\">name</td> <td class=\"long-text\" title=\"dimension\">dimension</td> <td class=\"long-text\" title=\"ZMIENIONE\">ZMIENIONE</td> <td class=\"long-text\" title=\"label\">label</td> <td class=\"long-text\" title=\"Name\">Name</td> <td class=\"long-text\" title=\"Customer Name\">Customer Name</td></tr><tr><td class=\"long-text\" title=\"view1.view.lkml\">view1.view.lkml</td> <td class=\"long-text\" title=\"name\">name</td> <td class=\"long-text\" title=\"dimension\">dimension</td> <td class=\"long-text\" title=\"ZMIENIONE\">ZMIENIONE</td> <td class=\"long-text\" title=\"drill_fields\">drill_fields</td> <td class=\"long-text\" title=\"[BRAK]\">[BRAK]</td> <td class=\"long-text\" title=\"id\">id</td></tr><tr><td class=\"long-text\" title=\"view1.view.lkml\">view1.view.lkml</td> <td class=\"long-text\" title=\"name\">name</td> <td class=\"long-text\" title=\"dimension\">dimension</td> <td class=\"long-text\" title=\"ZMIENIONE\">ZMIENIONE</td> <td class=\"long-text\" title=\"fields\">fields</td> <td class=\"long-text\" title=\"[BRAK]\">[BRAK]</td> <td class=\"long-text\" title=\"id\">id</td></tr><tr><td class=\"long-text\" title=\"view1.view.lkml\">view1.view.lkml</td> <td class=\"long-text\" title=\"new_dimension\">new_dimension</td> <td class=\"long-text\" title=\"dimension\">dimension</td> <td class=\"long-text\" title=\"USUNIĘTE\">USUNIĘTE</td> <td class=\"long-text\" title=\"cały element\">cały element</td> <td class=\"long-text\" title=\"istniał\">istniał</td> <td class=\"long-text\" title=\"-\">-</td></tr><tr><td class=\"long-text\" title=\"view2.view.lkml\">view2.view.lkml</td> <td class=\"long-text\" title=\"category\">category</td> <td class=\"long-text\" title=\"dimension\">dimension</td> <td class=\"long-text\" title=\"ZMIENIONE\">ZMIENIONE</td> <td class=\"long-text\" title=\"label\">label</td> <td class=\"long-text\" title=\"Category\">Category</td> <td class=\"long-text\" title=\"Product Category\">Product Category</td></tr><tr><td class=\"long-text\" title=\"view2.view.lkml\">view2.view.lkml</td> <td class=\"long-text\" title=\"total_value\">total_value</td> <td class=\"long-text\" title=\"measure\">measure</td> <td class=\"long-text\" title=\"ZMIENIONE\">ZMIENIONE</td> <td class=\"long-text\" title=\"label\">label</td> <td class=\"long-text\" title=\"[BRAK]\">[BRAK]</td> <td class=\"long-text\" title=\"Total Transaction Value\">Total Transaction Value</td></tr><tr><td class=\"long-text\" title=\"view2.view.lkml\">view2.view.lkml</td> <td class=\"long-text\" title=\"total_value\">total_value</td> <td class=\"long-text\" title=\"measure\">measure</td> <td class=\"long-text\" title=\"ZMIENIONE\">ZMIENIONE</td> <td class=\"long-text\" title=\"sql\">sql</td> <td class=\"long-text\" title=\"&quot;${TABLE}.value * 2&quot;\">\"${TABLE}.value * 2\"</td> <td class=\"long-text\" title=\"&quot;${TABLE}.value&quot;\">\"${TABLE}.value\"</td></tr><tr><td class=\"long-text\" title=\"view2.view.lkml\">view2.view.lkml</td> <td class=\"long-text\" title=\"value\">value</td> <td class=\"long-text\" title=\"dimension\">dimension</td> <td class=\"long-text\" title=\"ZMIENIONE\">ZMIENIONE</td> <td class=\"long-text\" title=\"label\">label</td> <td class=\"long-text\" title=\"Value\">Value</td> <td class=\"long-text\" title=\"Transaction Value\">Transaction Value</td></tr><tr><td class=\"long-text\" title=\"view3.view.lkml\">view3.view.lkml</td> <td class=\"long-text\" title=\"category\">category</td> <td class=\"long-text\" title=\"dimension\">dimension</td> <td class=\"long-text\" title=\"DODANE\">DODANE</td> <td class=\"long-text\" title=\"cały element\">cały element</td> <td class=\"long-text\" title=\"-\">-</td> <td class=\"long-text\" title=\"istnieje\">istnieje</td></tr><tr><td class=\"long-text\" title=\"view3.view.lkml\">view3.view.lkml</td> <td class=\"long-text\" title=\"my_drill\">my_drill</td> <td class=\"long-text\" title=\"drill\">drill</td> <td class=\"long-text\" title=\"ZMIENIONE\">ZMIENIONE</td> <td class=\"long-text\" title=\"label\">label</td> <td class=\"long-text\" title=\"Drill into Details\">Drill into Details</td> <td class=\"long-text\" title=\"Drill into More Details\">Drill into More Details</td></tr><tr><td class=\"long-text\" title=\"view3.view.lkml\">view3.view.lkml</td> <td class=\"long-text\" title=\"my_set\">my_set</td> <td class=\"long-text\" title=\"set\">set</td> <td class=\"long-text\" title=\"ZMIENIONE\">ZMIENIONE</td> <td class=\"long-text\" title=\"fields\">fields</td> <td class=\"long-text\" title=\"id, name\">id, name</td> <td class=\"long-text\" title=\"id, name, category\">id, name, category</td></tr></tbody></table>\n",
       "    <h2>Files Missing in New Folder</h2><ul></ul><h2>New Files in New Folder</h2><ul></ul></body></html>\n",
       "    "
      ],
      "text/plain": [
       "<IPython.core.display.HTML object>"
      ]
     },
     "metadata": {},
     "output_type": "display_data"
    }
   ],
   "source": [
    "from IPython.display import HTML, display\n",
    "import os\n",
    "\n",
    "report_path = os.path.abspath(\"lookml_comparison_table_report.html\")\n",
    "\n",
    "if os.path.exists(report_path):\n",
    "    with open(report_path, 'r', encoding='utf-8') as f:\n",
    "        html_content = f.read()\n",
    "    print(f\"Wyświetlanie raportu z: {report_path}\")\n",
    "    display(HTML(html_content))\n",
    "else:\n",
    "    print(f\"Plik raportu HTML nie został znaleziony w ścieżce: {report_path}\")\n",
    "    print(\"Upewnij się, że najpierw uruchomiłeś komórkę generującą raport, np. z funkcją run_complete_comparison(..., html_table=True).\")\n"
   ]
  },
  {
   "cell_type": "code",
   "execution_count": 3,
   "id": "1377f5e3-d406-4b80-a44c-ec04314c49eb",
   "metadata": {},
   "outputs": [
    {
     "name": "stdout",
     "output_type": "stream",
     "text": [
      "🚀 URUCHAMIANIE PORÓWNANIA I INTERAKTYWNEGO ŁĄCZENIA\n",
      "Skopiowano pliki z /Users/mrgvp/Documents/projects/python/lookml_diff_checker/folder_new do /Users/mrgvp/Documents/projects/python/lookml_diff_checker/merge\n",
      "\n",
      "Rozpoczynanie szczegółowego interaktywnego łączenia... (t/n)\n",
      "\n",
      "--- Plik: view1.view.lkml ---\n",
      "Element: business_date (rodzaj)\n",
      "Rodzaj zmiany: ZMIENIONE\n",
      "Atrybut: typ\n",
      "Stara wartość: dimension_group\n",
      "Nowa wartość:  dimension\n"
     ]
    },
    {
     "name": "stdin",
     "output_type": "stream",
     "text": [
      "  Czy chcesz cofnąć tę zmianę (przywrócić starą wersję)? (t/n):  t\n"
     ]
    },
    {
     "name": "stdout",
     "output_type": "stream",
     "text": [
      "  -> ZASTOSOWANO: Przywrócono 'business_date' z wersji 'old' (zmiana typu).\n",
      "\n",
      "--- Plik: view1.view.lkml ---\n",
      "Element: business_date (dimension)\n",
      "Rodzaj zmiany: DODANE\n",
      "Atrybut: cały element\n",
      "Stara wartość: -\n",
      "Nowa wartość:  istnieje\n"
     ]
    },
    {
     "name": "stdin",
     "output_type": "stream",
     "text": [
      "  Czy chcesz cofnąć tę zmianę (przywrócić starą wersję)? (t/n):  n\n"
     ]
    },
    {
     "name": "stdout",
     "output_type": "stream",
     "text": [
      "  -> POMINIĘTO.\n",
      "\n",
      "--- Plik: view1.view.lkml ---\n",
      "Element: new_dimension (dimension)\n",
      "Rodzaj zmiany: USUNIĘTE\n",
      "Atrybut: cały element\n",
      "Stara wartość: istniał\n",
      "Nowa wartość:  -\n"
     ]
    },
    {
     "name": "stdin",
     "output_type": "stream",
     "text": [
      "  Czy chcesz cofnąć tę zmianę (przywrócić starą wersję)? (t/n):  t\n"
     ]
    },
    {
     "name": "stdout",
     "output_type": "stream",
     "text": [
      "  -> ZASTOSOWANO: Przywrócono usunięty element 'new_dimension'.\n",
      "\n",
      "--- Plik: view1.view.lkml ---\n",
      "Element: name (dimension)\n",
      "Rodzaj zmiany: ZMIENIONE\n",
      "Atrybut: drill_fields\n",
      "Stara wartość: [BRAK]\n",
      "Nowa wartość:  id\n"
     ]
    },
    {
     "name": "stdin",
     "output_type": "stream",
     "text": [
      "  Czy chcesz cofnąć tę zmianę (przywrócić starą wersję)? (t/n):  n\n"
     ]
    },
    {
     "name": "stdout",
     "output_type": "stream",
     "text": [
      "  -> POMINIĘTO.\n",
      "\n",
      "--- Plik: view1.view.lkml ---\n",
      "Element: name (dimension)\n",
      "Rodzaj zmiany: ZMIENIONE\n",
      "Atrybut: fields\n",
      "Stara wartość: [BRAK]\n",
      "Nowa wartość:  id\n"
     ]
    },
    {
     "name": "stdin",
     "output_type": "stream",
     "text": [
      "  Czy chcesz cofnąć tę zmianę (przywrócić starą wersję)? (t/n):  n\n"
     ]
    },
    {
     "name": "stdout",
     "output_type": "stream",
     "text": [
      "  -> POMINIĘTO.\n",
      "\n",
      "--- Plik: view1.view.lkml ---\n",
      "Element: name (dimension)\n",
      "Rodzaj zmiany: ZMIENIONE\n",
      "Atrybut: label\n",
      "Stara wartość: Name\n",
      "Nowa wartość:  Customer Name\n"
     ]
    },
    {
     "name": "stdin",
     "output_type": "stream",
     "text": [
      "  Czy chcesz cofnąć tę zmianę (przywrócić starą wersję)? (t/n):  n\n"
     ]
    },
    {
     "name": "stdout",
     "output_type": "stream",
     "text": [
      "  -> POMINIĘTO.\n",
      "\n",
      "--- Plik: view2.view.lkml ---\n",
      "Element: category (dimension)\n",
      "Rodzaj zmiany: ZMIENIONE\n",
      "Atrybut: label\n",
      "Stara wartość: Category\n",
      "Nowa wartość:  Product Category\n"
     ]
    },
    {
     "name": "stdin",
     "output_type": "stream",
     "text": [
      "  Czy chcesz cofnąć tę zmianę (przywrócić starą wersję)? (t/n):  n\n"
     ]
    },
    {
     "name": "stdout",
     "output_type": "stream",
     "text": [
      "  -> POMINIĘTO.\n",
      "\n",
      "--- Plik: view2.view.lkml ---\n",
      "Element: value (dimension)\n",
      "Rodzaj zmiany: ZMIENIONE\n",
      "Atrybut: label\n",
      "Stara wartość: Value\n",
      "Nowa wartość:  Transaction Value\n"
     ]
    },
    {
     "name": "stdin",
     "output_type": "stream",
     "text": [
      "  Czy chcesz cofnąć tę zmianę (przywrócić starą wersję)? (t/n):  n\n"
     ]
    },
    {
     "name": "stdout",
     "output_type": "stream",
     "text": [
      "  -> POMINIĘTO.\n",
      "\n",
      "--- Plik: view2.view.lkml ---\n",
      "Element: total_value (measure)\n",
      "Rodzaj zmiany: ZMIENIONE\n",
      "Atrybut: label\n",
      "Stara wartość: [BRAK]\n",
      "Nowa wartość:  Total Transaction Value\n"
     ]
    },
    {
     "name": "stdin",
     "output_type": "stream",
     "text": [
      "  Czy chcesz cofnąć tę zmianę (przywrócić starą wersję)? (t/n):  n\n"
     ]
    },
    {
     "name": "stdout",
     "output_type": "stream",
     "text": [
      "  -> POMINIĘTO.\n",
      "\n",
      "--- Plik: view2.view.lkml ---\n",
      "Element: total_value (measure)\n",
      "Rodzaj zmiany: ZMIENIONE\n",
      "Atrybut: sql\n",
      "Stara wartość: \"${TABLE}.value * 2\"\n",
      "Nowa wartość:  \"${TABLE}.value\"\n"
     ]
    },
    {
     "name": "stdin",
     "output_type": "stream",
     "text": [
      "  Czy chcesz cofnąć tę zmianę (przywrócić starą wersję)? (t/n):  n\n"
     ]
    },
    {
     "name": "stdout",
     "output_type": "stream",
     "text": [
      "  -> POMINIĘTO.\n",
      "\n",
      "--- Plik: view3.view.lkml ---\n",
      "Element: my_set (set)\n",
      "Rodzaj zmiany: ZMIENIONE\n",
      "Atrybut: fields\n",
      "Stara wartość: id, name\n",
      "Nowa wartość:  id, name, category\n"
     ]
    },
    {
     "name": "stdin",
     "output_type": "stream",
     "text": [
      "  Czy chcesz cofnąć tę zmianę (przywrócić starą wersję)? (t/n):  n\n"
     ]
    },
    {
     "name": "stdout",
     "output_type": "stream",
     "text": [
      "  -> POMINIĘTO.\n",
      "\n",
      "--- Plik: view3.view.lkml ---\n",
      "Element: my_drill (drill)\n",
      "Rodzaj zmiany: ZMIENIONE\n",
      "Atrybut: label\n",
      "Stara wartość: Drill into Details\n",
      "Nowa wartość:  Drill into More Details\n"
     ]
    },
    {
     "name": "stdin",
     "output_type": "stream",
     "text": [
      "  Czy chcesz cofnąć tę zmianę (przywrócić starą wersję)? (t/n):  n\n"
     ]
    },
    {
     "name": "stdout",
     "output_type": "stream",
     "text": [
      "  -> POMINIĘTO.\n",
      "\n",
      "\n",
      "✅ PROCES ŁĄCZENIA ZAKOŃCZONY!\n"
     ]
    }
   ],
   "source": [
    "from lookml_comparison import run_interactive_comparison_and_merge\n",
    "from pathlib import Path\n",
    "\n",
    "# Definicja ścieżek do folderów bazujących na bieżącym katalogu\n",
    "current_dir = Path.cwd()\n",
    "folder_old = current_dir / \"folder_old\"\n",
    "folder_new = current_dir / \"folder_new\"\n",
    "folder_merge = current_dir / \"merge\"\n",
    "\n",
    "# Uruchomienie interaktywnego procesu łączenia\n",
    "# W konsoli pojawią się pytania o akceptację/odrzucenie zmian\n",
    "run_interactive_comparison_and_merge(folder_old, folder_new, folder_merge)\n"
   ]
  },
  {
   "cell_type": "code",
   "execution_count": null,
   "id": "0ac1252a-70a1-43fb-941c-da42b4ed547d",
   "metadata": {},
   "outputs": [],
   "source": []
  }
 ],
 "metadata": {
  "kernelspec": {
   "display_name": "Python 3 (ipykernel)",
   "language": "python",
   "name": "python3"
  },
  "language_info": {
   "codemirror_mode": {
    "name": "ipython",
    "version": 3
   },
   "file_extension": ".py",
   "mimetype": "text/x-python",
   "name": "python",
   "nbconvert_exporter": "python",
   "pygments_lexer": "ipython3",
   "version": "3.13.0"
  }
 },
 "nbformat": 4,
 "nbformat_minor": 5
}
